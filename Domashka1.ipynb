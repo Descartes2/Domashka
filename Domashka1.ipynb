{
 "cells": [
  {
   "cell_type": "code",
   "execution_count": 25,
   "id": "795aa5de",
   "metadata": {},
   "outputs": [
    {
     "name": "stdout",
     "output_type": "stream",
     "text": [
      "[1000000, 0, 0, 0, 0, 0, 0, 0, 0, 0]\n"
     ]
    }
   ],
   "source": [
    "Interval=[0,0,0,0,0,0,0,0,0,0]\n",
    "Massiv=[]\n",
    "\n",
    "for i in range(0,1000000,1):\n",
    "    Massiv.append(0)\n",
    "\n",
    "def Gistogramma(Massiv):\n",
    "    Interval=[0,0,0,0,0,0,0,0,0,0]\n",
    "    \n",
    "    for i in range(0,1000000,1):\n",
    "        Interval[Massiv[i]//100]+=1\n",
    "        \n",
    "    return(Interval)\n",
    "\n",
    "Interval=Gistogramma(Massiv)\n",
    "print(Interval)"
   ]
  }
 ],
 "metadata": {
  "kernelspec": {
   "display_name": "Python 3",
   "language": "python",
   "name": "python3"
  }
 },
 "nbformat": 4,
 "nbformat_minor": 5
}
